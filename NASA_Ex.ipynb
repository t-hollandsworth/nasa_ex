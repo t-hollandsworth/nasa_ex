{
 "cells": [
  {
   "cell_type": "code",
   "execution_count": 4,
   "metadata": {},
   "outputs": [],
   "source": [
    "import json \n",
    "import requests\n",
    "import pandas as pd "
   ]
  },
  {
   "cell_type": "code",
   "execution_count": 5,
   "metadata": {},
   "outputs": [],
   "source": [
    "url = \"https://data.nasa.gov/resource/gh4g-9sfh.json\""
   ]
  },
  {
   "cell_type": "code",
   "execution_count": 6,
   "metadata": {},
   "outputs": [
    {
     "data": {
      "text/plain": [
       "<Response [200]>"
      ]
     },
     "execution_count": 6,
     "metadata": {},
     "output_type": "execute_result"
    }
   ],
   "source": [
    "resp = requests.get(url)\n",
    "resp"
   ]
  },
  {
   "cell_type": "code",
   "execution_count": 7,
   "metadata": {},
   "outputs": [],
   "source": [
    "nasa_df = resp.json()"
   ]
  },
  {
   "cell_type": "code",
   "execution_count": 9,
   "metadata": {},
   "outputs": [
    {
     "data": {
      "text/plain": [
       "list"
      ]
     },
     "execution_count": 9,
     "metadata": {},
     "output_type": "execute_result"
    }
   ],
   "source": [
    "type(nasa_df)"
   ]
  },
  {
   "cell_type": "code",
   "execution_count": 10,
   "metadata": {},
   "outputs": [
    {
     "data": {
      "text/plain": [
       "1000"
      ]
     },
     "execution_count": 10,
     "metadata": {},
     "output_type": "execute_result"
    }
   ],
   "source": [
    "len(nasa_df)"
   ]
  },
  {
   "cell_type": "code",
   "execution_count": 12,
   "metadata": {},
   "outputs": [
    {
     "data": {
      "text/plain": [
       "{'name': 'Aachen',\n",
       " 'id': '1',\n",
       " 'nametype': 'Valid',\n",
       " 'recclass': 'L5',\n",
       " 'mass': '21',\n",
       " 'fall': 'Fell',\n",
       " 'year': '1880-01-01T00:00:00.000',\n",
       " 'reclat': '50.775000',\n",
       " 'reclong': '6.083330',\n",
       " 'geolocation': {'latitude': '50.775', 'longitude': '6.08333'}}"
      ]
     },
     "execution_count": 12,
     "metadata": {},
     "output_type": "execute_result"
    }
   ],
   "source": [
    "# ids we are looking for ID Year Fall Name Name Type Mass Latitude Longitude\n",
    "# we can see that some values (geolocation) are a layer deeper in the list \n",
    "nasa_df[0]"
   ]
  },
  {
   "cell_type": "code",
   "execution_count": 13,
   "metadata": {},
   "outputs": [
    {
     "data": {
      "text/plain": [
       "'Aachen'"
      ]
     },
     "execution_count": 13,
     "metadata": {},
     "output_type": "execute_result"
    }
   ],
   "source": [
    "nasa_df[0]['name']"
   ]
  },
  {
   "cell_type": "code",
   "execution_count": 16,
   "metadata": {},
   "outputs": [],
   "source": [
    "meteor_dict = {\"ID\": [], \"Year\": [], \"Fall\" :[], 'Name' : [], 'Name Type': [], 'Mass': [], \"Latitude\": [], \"Longitude\" : []}\n",
    "\n",
    "for meteor in nasa_df: \n",
    "    try: name = meteor['name']\n",
    "    except: name = None \n",
    "    \n",
    "    try: m_id = meteor['id']\n",
    "    except: m_id = None\n",
    "    \n",
    "    try: year = meteor['year']\n",
    "    except: year = None\n",
    "    \n",
    "    try: fall = meteor['fall']\n",
    "    except: fall = None\n",
    "    \n",
    "    try: name_type = meteor['nametype']\n",
    "    except: name_type = None\n",
    "    \n",
    "    try: mass = meteor['mass']\n",
    "    except: mass = None\n",
    "    \n",
    "    try: lat = meteor['geolocation']['latitude']\n",
    "    except: lat = None\n",
    "    \n",
    "    try: lon = meteor['geolocation']['longitude']\n",
    "    except: lon = None\n",
    "    \n",
    "    meteor_dict['ID'].append(m_id)\n",
    "    meteor_dict['Year'].append(year)\n",
    "    meteor_dict['Fall'].append(fall)\n",
    "    meteor_dict['Name'].append(name)\n",
    "    meteor_dict['Name Type'].append(name_type)\n",
    "    meteor_dict['Mass'].append(mass)\n",
    "    meteor_dict['Latitude'].append(lat)\n",
    "    meteor_dict['Longitude'].append(lon)\n",
    "    "
   ]
  },
  {
   "cell_type": "code",
   "execution_count": 19,
   "metadata": {},
   "outputs": [
    {
     "data": {
      "text/plain": [
       "dict_keys(['ID', 'Year', 'Fall', 'Name', 'Name Type', 'Mass', 'Latitude', 'Longitude'])"
      ]
     },
     "execution_count": 19,
     "metadata": {},
     "output_type": "execute_result"
    }
   ],
   "source": [
    "meteor_dict.keys()"
   ]
  },
  {
   "cell_type": "code",
   "execution_count": 26,
   "metadata": {},
   "outputs": [],
   "source": [
    "df = pd.DataFrame.from_dict(meteor_dict)"
   ]
  },
  {
   "cell_type": "code",
   "execution_count": 27,
   "metadata": {},
   "outputs": [
    {
     "data": {
      "text/html": [
       "<div>\n",
       "<style scoped>\n",
       "    .dataframe tbody tr th:only-of-type {\n",
       "        vertical-align: middle;\n",
       "    }\n",
       "\n",
       "    .dataframe tbody tr th {\n",
       "        vertical-align: top;\n",
       "    }\n",
       "\n",
       "    .dataframe thead th {\n",
       "        text-align: right;\n",
       "    }\n",
       "</style>\n",
       "<table border=\"1\" class=\"dataframe\">\n",
       "  <thead>\n",
       "    <tr style=\"text-align: right;\">\n",
       "      <th></th>\n",
       "      <th>ID</th>\n",
       "      <th>Year</th>\n",
       "      <th>Fall</th>\n",
       "      <th>Name</th>\n",
       "      <th>Name Type</th>\n",
       "      <th>Mass</th>\n",
       "      <th>Latitude</th>\n",
       "      <th>Longitude</th>\n",
       "    </tr>\n",
       "  </thead>\n",
       "  <tbody>\n",
       "    <tr>\n",
       "      <th>0</th>\n",
       "      <td>1</td>\n",
       "      <td>1880-01-01T00:00:00.000</td>\n",
       "      <td>Fell</td>\n",
       "      <td>Aachen</td>\n",
       "      <td>Valid</td>\n",
       "      <td>21</td>\n",
       "      <td>50.775</td>\n",
       "      <td>6.08333</td>\n",
       "    </tr>\n",
       "    <tr>\n",
       "      <th>1</th>\n",
       "      <td>2</td>\n",
       "      <td>1951-01-01T00:00:00.000</td>\n",
       "      <td>Fell</td>\n",
       "      <td>Aarhus</td>\n",
       "      <td>Valid</td>\n",
       "      <td>720</td>\n",
       "      <td>56.18333</td>\n",
       "      <td>10.23333</td>\n",
       "    </tr>\n",
       "    <tr>\n",
       "      <th>2</th>\n",
       "      <td>6</td>\n",
       "      <td>1952-01-01T00:00:00.000</td>\n",
       "      <td>Fell</td>\n",
       "      <td>Abee</td>\n",
       "      <td>Valid</td>\n",
       "      <td>107000</td>\n",
       "      <td>54.21667</td>\n",
       "      <td>-113.0</td>\n",
       "    </tr>\n",
       "    <tr>\n",
       "      <th>3</th>\n",
       "      <td>10</td>\n",
       "      <td>1976-01-01T00:00:00.000</td>\n",
       "      <td>Fell</td>\n",
       "      <td>Acapulco</td>\n",
       "      <td>Valid</td>\n",
       "      <td>1914</td>\n",
       "      <td>16.88333</td>\n",
       "      <td>-99.9</td>\n",
       "    </tr>\n",
       "    <tr>\n",
       "      <th>4</th>\n",
       "      <td>370</td>\n",
       "      <td>1902-01-01T00:00:00.000</td>\n",
       "      <td>Fell</td>\n",
       "      <td>Achiras</td>\n",
       "      <td>Valid</td>\n",
       "      <td>780</td>\n",
       "      <td>-33.16667</td>\n",
       "      <td>-64.95</td>\n",
       "    </tr>\n",
       "  </tbody>\n",
       "</table>\n",
       "</div>"
      ],
      "text/plain": [
       "    ID                     Year  Fall      Name Name Type    Mass   Latitude  \\\n",
       "0    1  1880-01-01T00:00:00.000  Fell    Aachen     Valid      21     50.775   \n",
       "1    2  1951-01-01T00:00:00.000  Fell    Aarhus     Valid     720   56.18333   \n",
       "2    6  1952-01-01T00:00:00.000  Fell      Abee     Valid  107000   54.21667   \n",
       "3   10  1976-01-01T00:00:00.000  Fell  Acapulco     Valid    1914   16.88333   \n",
       "4  370  1902-01-01T00:00:00.000  Fell   Achiras     Valid     780  -33.16667   \n",
       "\n",
       "  Longitude  \n",
       "0   6.08333  \n",
       "1  10.23333  \n",
       "2    -113.0  \n",
       "3     -99.9  \n",
       "4    -64.95  "
      ]
     },
     "execution_count": 27,
     "metadata": {},
     "output_type": "execute_result"
    }
   ],
   "source": [
    "df.head()"
   ]
  },
  {
   "cell_type": "code",
   "execution_count": 28,
   "metadata": {},
   "outputs": [
    {
     "data": {
      "text/plain": [
       "1000"
      ]
     },
     "execution_count": 28,
     "metadata": {},
     "output_type": "execute_result"
    }
   ],
   "source": [
    "len(df)"
   ]
  },
  {
   "cell_type": "code",
   "execution_count": null,
   "metadata": {},
   "outputs": [],
   "source": []
  }
 ],
 "metadata": {
  "kernelspec": {
   "display_name": "Python 3",
   "language": "python",
   "name": "python3"
  },
  "language_info": {
   "codemirror_mode": {
    "name": "ipython",
    "version": 3
   },
   "file_extension": ".py",
   "mimetype": "text/x-python",
   "name": "python",
   "nbconvert_exporter": "python",
   "pygments_lexer": "ipython3",
   "version": "3.7.3"
  }
 },
 "nbformat": 4,
 "nbformat_minor": 2
}
